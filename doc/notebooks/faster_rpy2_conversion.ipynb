{
 "cells": [
  {
   "cell_type": "markdown",
   "metadata": {},
   "source": [
    "# Moving pandas DataFrames faster between Python and R"
   ]
  },
  {
   "cell_type": "markdown",
   "metadata": {},
   "source": [
    "We create a test `pandas.DataFrame`. The size is set to show\n",
    "a noticeable able effect without waiting too long for the\n",
    "slowest conversion on the laptop the notebook ran on. Feel free\n",
    "to change the variable `_N` to what suits best your hardware,\n",
    "and your patience."
   ]
  },
  {
   "cell_type": "code",
   "execution_count": 1,
   "metadata": {},
   "outputs": [],
   "source": [
    "import pandas as pd\n",
    "# Number or rows in the DataFrame.\n",
    "_N = 500000\n",
    "pd_dataf = pd.DataFrame({'x': range(_N),\n",
    "                         'y': ['abc', 'def'] * (_N//2)})"
   ]
  },
  {
   "cell_type": "markdown",
   "metadata": {},
   "source": [
    "Next we load the ipython/jupyter extension in R to communicate with R in a (Python) notebook."
   ]
  },
  {
   "cell_type": "code",
   "execution_count": 2,
   "metadata": {},
   "outputs": [],
   "source": [
    "%load_ext rpy2.ipython"
   ]
  },
  {
   "cell_type": "markdown",
   "metadata": {},
   "source": [
    "With the extension loaded, the `DataFrame` can be imported in a R cell (declared with `%%R`) using the argument `-i`. This is a reasonably-size data table and it takes few seconds for the\n",
    "conversion system to create a copy of it in R on the machine where the notebook was written."
   ]
  },
  {
   "cell_type": "code",
   "execution_count": 3,
   "metadata": {},
   "outputs": [
    {
     "name": "stdout",
     "output_type": "stream",
     "text": [
      "  x   y\n",
      "0 0 abc\n",
      "1 1 def\n",
      "2 2 abc\n",
      "3 3 def\n",
      "4 4 abc\n",
      "5 5 def\n",
      "CPU times: user 7.09 s, sys: 100 ms, total: 7.19 s\n",
      "Wall time: 7.19 s\n"
     ]
    }
   ],
   "source": [
    "%%time\n",
    "%%R -i pd_dataf\n",
    "print(head(pd_dataf))\n",
    "rm(pd_dataf)"
   ]
  },
  {
   "cell_type": "markdown",
   "metadata": {},
   "source": [
    "The conversion of a `pandas.DataFrame` can be accelerated by using Apache Arrow as an intermediate step.\n",
    "The package `pyarrow` is using efficient compiled code to go from a `pandas.DataFrame` to an Arrow data\n",
    "structure, and the R package `arrow` can go from an Arrow data structure to an R `data.frame`.\n",
    "\n",
    "The package `rpy2_arrow` can help manage the conversion between Python wrappers to Arrow data structures (Python package `pyarrow`) and R wrappers to Arrow data structures (R package `arrow`). Creating a custom converter for `rpy2` is done in few lines of code. "
   ]
  },
  {
   "cell_type": "code",
   "execution_count": 4,
   "metadata": {},
   "outputs": [],
   "source": [
    "import pyarrow\n",
    "from rpy2.robjects.packages import importr\n",
    "import rpy2.robjects.conversion\n",
    "import rpy2.rinterface\n",
    "import rpy2_arrow.pyarrow_rarrow as pyra\n",
    "\n",
    "base = importr('base')\n",
    "\n",
    "# We use the converter included in rpy2-arrow as template.\n",
    "conv = rpy2.robjects.conversion.Converter('Pandas to data.frame',\n",
    "                                          template=pyra.converter)\n",
    "\n",
    "@conv.py2rpy.register(pd.DataFrame)\n",
    "def py2rpy_pandas(dataf):\n",
    "    pa_tbl = pyarrow.Table.from_pandas(dataf)\n",
    "    # pa_tbl is a pyarrow table, and this is something that\n",
    "    # that converter shipping with rpy2-arrow knows how to handle.\n",
    "    return base.as_data_frame(pa_tbl)\n",
    "\n",
    "# We build a custom converter that is the default converter for\n",
    "# ipython/jupyter shipping with rpy2, to which we add rules for\n",
    "# Arrow + pandas we just made.\n",
    "conv = rpy2.ipython.rmagic.converter + conv"
   ]
  },
  {
   "cell_type": "markdown",
   "metadata": {},
   "source": [
    "Our custom converter `conv` can be specified as a parameter to `%%R`:"
   ]
  },
  {
   "cell_type": "code",
   "execution_count": 5,
   "metadata": {},
   "outputs": [
    {
     "name": "stdout",
     "output_type": "stream",
     "text": [
      "[1] \"tbl_df\"     \"tbl\"        \"data.frame\"\n",
      "  x   y\n",
      "1 0 abc\n",
      "2 1 def\n",
      "3 2 abc\n",
      "4 3 def\n",
      "5 4 abc\n",
      "6 5 def\n",
      "CPU times: user 63.3 ms, sys: 12.3 ms, total: 75.6 ms\n",
      "Wall time: 69.2 ms\n"
     ]
    }
   ],
   "source": [
    "%%time\n",
    "%%R -i pd_dataf -c conv\n",
    "print(class(pd_dataf))\n",
    "print(head(pd_dataf))\n",
    "rm(pd_dataf)"
   ]
  },
  {
   "cell_type": "markdown",
   "metadata": {},
   "source": [
    "The conversion is much faster."
   ]
  },
  {
   "cell_type": "markdown",
   "metadata": {},
   "source": [
    "It is also possible to only convert to an Arrow data structure."
   ]
  },
  {
   "cell_type": "code",
   "execution_count": 6,
   "metadata": {},
   "outputs": [],
   "source": [
    "conv2 = rpy2.robjects.conversion.Converter('Pandas to pyarrow',\n",
    "                                           template=pyra.converter)\n",
    "\n",
    "@conv2.py2rpy.register(pd.DataFrame)\n",
    "def py2rpy_pandas(dataf):\n",
    "    pa_tbl = pyarrow.Table.from_pandas(dataf)\n",
    "    return pyra.converter.py2rpy(pa_tbl)\n",
    "\n",
    "conv2 = rpy2.ipython.rmagic.converter + conv2"
   ]
  },
  {
   "cell_type": "code",
   "execution_count": 7,
   "metadata": {},
   "outputs": [
    {
     "name": "stdout",
     "output_type": "stream",
     "text": [
      "Table\n",
      "6 rows x 2 columns\n",
      "$x <int64>\n",
      "$y <string>\n",
      "\n",
      "See $metadata for additional Schema metadata\n",
      "CPU times: user 28.8 ms, sys: 4.07 ms, total: 32.9 ms\n",
      "Wall time: 31 ms\n"
     ]
    }
   ],
   "source": [
    "%%time\n",
    "%%R -i pd_dataf -c conv2\n",
    "print(head(pd_dataf))\n",
    "rm(pd_dataf)"
   ]
  },
  {
   "cell_type": "markdown",
   "metadata": {},
   "source": [
    "This time the conversion is about as fast but is likely requiring less memory. When casting the Arrow data table into\n",
    "an R `data.frame`, I believe there is a moment in time where copies of the data will coexist in the Python `DataFrame`, in the `Arrow` table, and in the R `data.frame`. This is transient though; the `Arrow` table only exists during the scope of `py2rpy_pandas` for `conv`. For `conv2`, the data will only be copied once. It will coexist in the Python `DataFrame`\n",
    "and in the `Arrow` table (the content of which will be shared between Python and R if I understand it right)."
   ]
  },
  {
   "cell_type": "markdown",
   "metadata": {},
   "source": [
    "The R package `arrow` implements methods for its wrapped for Arrow data structures to make their behavior close to `data.frame` objects.\n",
    "There will be many situations where this will be sufficient to work with the data table in R, while benefiting from the very significant speed gain.\n",
    "For example with the R package `dplyr`:"
   ]
  },
  {
   "cell_type": "code",
   "execution_count": 8,
   "metadata": {},
   "outputs": [],
   "source": [
    "%%R\n",
    "suppressMessages(require(dplyr))"
   ]
  },
  {
   "cell_type": "code",
   "execution_count": 9,
   "metadata": {},
   "outputs": [
    {
     "name": "stdout",
     "output_type": "stream",
     "text": [
      "\u001b[90m# A tibble: 2 x 2\u001b[39m\n",
      "  y          n\n",
      "  \u001b[3m\u001b[90m<chr>\u001b[39m\u001b[23m  \u001b[3m\u001b[90m<int>\u001b[39m\u001b[23m\n",
      "\u001b[90m1\u001b[39m abc   \u001b[4m2\u001b[24m\u001b[4m5\u001b[24m\u001b[4m0\u001b[24m000\n",
      "\u001b[90m2\u001b[39m def   \u001b[4m2\u001b[24m\u001b[4m5\u001b[24m\u001b[4m0\u001b[24m000\n",
      "CPU times: user 132 ms, sys: 15.7 ms, total: 148 ms\n",
      "Wall time: 146 ms\n"
     ]
    }
   ],
   "source": [
    "%%time\n",
    "%%R -i pd_dataf -c conv2\n",
    "\n",
    "pd_dataf %>%\n",
    "  group_by(y) %>%\n",
    "  summarize(n = length(x))"
   ]
  }
 ],
 "metadata": {
  "kernelspec": {
   "display_name": "Python 3",
   "language": "python",
   "name": "python3"
  },
  "language_info": {
   "codemirror_mode": {
    "name": "ipython",
    "version": 3
   },
   "file_extension": ".py",
   "mimetype": "text/x-python",
   "name": "python",
   "nbconvert_exporter": "python",
   "pygments_lexer": "ipython3",
   "version": "3.8.5"
  }
 },
 "nbformat": 4,
 "nbformat_minor": 4
}
